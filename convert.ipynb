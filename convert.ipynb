{
 "cells": [
  {
   "cell_type": "code",
   "execution_count": 18,
   "metadata": {},
   "outputs": [],
   "source": [
    "import pandas as pd\n",
    "import json\n",
    "\n",
    "# Baca file input dan muat ke dalam DataFrame\n",
    "df = pd.read_json(\"test.json\", lines=True)\n",
    "\n",
    "# Set kolom 'id' sebagai index\n",
    "df.set_index('cid', inplace=True)\n",
    "\n",
    "# Konversi DataFrame ke dictionary\n",
    "output_dict = df.to_dict('index')\n",
    "\n",
    "# Tulis ke file output dalam format JSON single-line\n",
    "with open(\"output_file.json\", \"w\") as f:\n",
    "    f.write(json.dumps(output_dict, indent=4))\n"
   ]
  },
  {
   "cell_type": "code",
   "execution_count": 5,
   "metadata": {},
   "outputs": [],
   "source": [
    "import pandas as pd\n",
    "# Baca file input dan muat ke dalam DataFrame\n",
    "df = pd.read_json(\"comments2.json\", lines=True)\n",
    "\n",
    "# Tulis DataFrame ke dalam file CSV\n",
    "df.to_csv(\"comments.csv\", index=False)"
   ]
  },
  {
   "cell_type": "code",
   "execution_count": 34,
   "metadata": {},
   "outputs": [],
   "source": [
    "import json\n",
    "from itertools import islice\n",
    "from youtube_comment_downloader import *\n",
    "\n",
    "downloader = YoutubeCommentDownloader()\n",
    "comments = downloader.get_comments_from_url('https://www.youtube.com/watch?v=ScMzIvxBSi4', sort_by=SORT_BY_POPULAR)\n",
    "\n",
    "# Buat sebuah list kosong untuk menampung hasil\n",
    "comments_list = []\n",
    "\n",
    "# Loop melalui setiap komentar dan tambahkan ke dalam list\n",
    "for comment in islice(comments, 10):\n",
    "    comments_list.append(comment)\n",
    "\n",
    "# Tulis list ke dalam file JSON\n",
    "with open('comments.json', 'w') as f:\n",
    "    json.dump(comments_list, f)\n"
   ]
  },
  {
   "cell_type": "code",
   "execution_count": 37,
   "metadata": {},
   "outputs": [],
   "source": [
    "from itertools import islice\n",
    "import json\n",
    "from youtube_comment_downloader import *\n",
    "\n",
    "downloader = YoutubeCommentDownloader()\n",
    "comments = downloader.get_comments_from_url('https://www.youtube.com/watch?v=ScMzIvxBSi4')\n",
    "\n",
    "with open('comments.json', 'w') as f:\n",
    "    for comment in islice(comments, 10):\n",
    "        json.dump(comment, f)\n",
    "        f.write('\\n')\n"
   ]
  },
  {
   "cell_type": "code",
   "execution_count": 38,
   "metadata": {},
   "outputs": [],
   "source": [
    "from youtube_comment_downloader import *\n",
    "import json\n",
    "\n",
    "downloader = YoutubeCommentDownloader()\n",
    "comments = downloader.get_comments_from_url('https://www.youtube.com/watch?v=ScMzIvxBSi4')\n",
    "with open('comments.json', 'w') as f:\n",
    "    for comment in comments:\n",
    "        json.dump(comment, f)\n",
    "        f.write('\\n')"
   ]
  },
  {
   "cell_type": "code",
   "execution_count": 3,
   "metadata": {},
   "outputs": [],
   "source": [
    "from youtube_comment_downloader import *\n",
    "import json\n",
    "\n",
    "downloader = YoutubeCommentDownloader()\n",
    "comments = downloader.get_comments('KzN9GFuiHLw')\n",
    "with open('2.json', 'w') as f:\n",
    "    for comment in comments:\n",
    "        json.dump(comment, f)\n",
    "        f.write('\\n')"
   ]
  }
 ],
 "metadata": {
  "kernelspec": {
   "display_name": "venv",
   "language": "python",
   "name": "python3"
  },
  "language_info": {
   "codemirror_mode": {
    "name": "ipython",
    "version": 3
   },
   "file_extension": ".py",
   "mimetype": "text/x-python",
   "name": "python",
   "nbconvert_exporter": "python",
   "pygments_lexer": "ipython3",
   "version": "3.11.2"
  },
  "orig_nbformat": 4
 },
 "nbformat": 4,
 "nbformat_minor": 2
}
