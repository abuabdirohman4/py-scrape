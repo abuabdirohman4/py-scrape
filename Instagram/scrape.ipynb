{
 "cells": [
  {
   "cell_type": "code",
   "execution_count": 2,
   "metadata": {},
   "outputs": [
    {
     "name": "stdout",
     "output_type": "stream",
     "text": [
      "<Post Bz5T-14HJAZ> abuabdirohman4_Bz5T-14HJAZ_comments.json\n"
     ]
    }
   ],
   "source": [
    "import instaloader\n",
    "import json\n",
    "\n",
    "L = instaloader.Instaloader()\n",
    "\n",
    "# Masukkan nama pengguna dan kode postingan Instagram\n",
    "# username = input(\"Masukkan nama pengguna: \")\n",
    "username = \"abuabdirohman4\"\n",
    "post_id = \"Bz5T-14HJAZ\"\n",
    "# post_id = input(\"Masukkan kode postingan: \")\n",
    "\n",
    "# Unduh informasi postingan\n",
    "post = instaloader.Post.from_shortcode(L.context, post_id)\n",
    "\n",
    "\n",
    "# Buat file untuk menyimpan komentar\n",
    "filename = f\"{username}_{post_id}_comments.json\"\n",
    "# with open(filename, \"w\", encoding=\"utf-8\") as f:\n",
    "#     # Unduh dan simpan komentar\n",
    "#     for comment in post.get_comments():\n",
    "#         comment_dict = {\n",
    "#             \"id\": comment.id,\n",
    "#             \"created_at\": comment.created_at_utc.strftime(\"%Y-%m-%d %H:%M:%S\"),\n",
    "#             \"text\": comment.text,\n",
    "#             \"owner_username\": comment.owner.username\n",
    "#         }\n",
    "#         json.dump(comment_dict, f, ensure_ascii=False)\n",
    "#         f.write(\"\\n\")\n",
    "\n",
    "print(post, filename)"
   ]
  },
  {
   "cell_type": "code",
   "execution_count": null,
   "metadata": {},
   "outputs": [],
   "source": [
    "instaloader --comments -j=5 -c -t \"#comments/{shortcode}_{datetime_utc:%Y-%m-%d_%H-%M-%S}.json\" <post_id>\n",
    "instaloader --comments -j=5 -c -t \"#comments/{shortcode}_{datetime_utc:%Y-%m-%d_%H-%M-%S}.json\" Bz5T-14HJAZ\n",
    "\n"
   ]
  },
  {
   "cell_type": "code",
   "execution_count": null,
   "metadata": {},
   "outputs": [],
   "source": [
    "import instaloader\n",
    "\n",
    "L = instaloader.Instaloader()\n",
    "for post in L.get_hashtag_posts(HASHTAG):\n",
    "    L.download_post(post, target='#'+HASHTAG)"
   ]
  }
 ],
 "metadata": {
  "kernelspec": {
   "display_name": "venv",
   "language": "python",
   "name": "python3"
  },
  "language_info": {
   "codemirror_mode": {
    "name": "ipython",
    "version": 3
   },
   "file_extension": ".py",
   "mimetype": "text/x-python",
   "name": "python",
   "nbconvert_exporter": "python",
   "pygments_lexer": "ipython3",
   "version": "3.11.2"
  },
  "orig_nbformat": 4
 },
 "nbformat": 4,
 "nbformat_minor": 2
}
